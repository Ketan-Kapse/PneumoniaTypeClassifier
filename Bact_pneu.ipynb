{
  "nbformat": 4,
  "nbformat_minor": 0,
  "metadata": {
    "colab": {
      "name": "Bact_pneu.ipynb",
      "provenance": [],
      "authorship_tag": "ABX9TyOfuHuX4Vk9srL52iAbT2vv",
      "include_colab_link": true
    },
    "kernelspec": {
      "name": "python3",
      "display_name": "Python 3"
    },
    "accelerator": "GPU"
  },
  "cells": [
    {
      "cell_type": "markdown",
      "metadata": {
        "id": "view-in-github",
        "colab_type": "text"
      },
      "source": [
        "<a href=\"https://colab.research.google.com/github/Ketan-Kapse/PneumoniaTypeClassifier/blob/main/Bact_pneu.ipynb\" target=\"_parent\"><img src=\"https://colab.research.google.com/assets/colab-badge.svg\" alt=\"Open In Colab\"/></a>"
      ]
    },
    {
      "cell_type": "code",
      "metadata": {
        "colab": {
          "base_uri": "https://localhost:8080/"
        },
        "id": "Pbbx7sTW4rOf",
        "outputId": "2185fa5b-ee0e-447d-db1e-3b2c4b141e91"
      },
      "source": [
        "from google.colab import drive\r\n",
        "drive.mount('/content/drive')"
      ],
      "execution_count": null,
      "outputs": [
        {
          "output_type": "stream",
          "text": [
            "Mounted at /content/drive\n"
          ],
          "name": "stdout"
        }
      ]
    },
    {
      "cell_type": "code",
      "metadata": {
        "colab": {
          "base_uri": "https://localhost:8080/"
        },
        "id": "6qViGFWc43cU",
        "outputId": "7cc5f5de-f8c3-494a-f1dc-191e4d96847d"
      },
      "source": [
        "%cd /content/drive/My\\ Drive/Bacterial_pneumonia\r\n"
      ],
      "execution_count": 177,
      "outputs": [
        {
          "output_type": "stream",
          "text": [
            "/content/drive/My Drive/Bacterial_pneumonia\n"
          ],
          "name": "stdout"
        }
      ]
    },
    {
      "cell_type": "code",
      "metadata": {
        "id": "TNlaSoWQ478T"
      },
      "source": [
        "from keras.layers import *\r\n",
        "from keras.models import *\r\n",
        "from keras.applications import ResNet50\r\n",
        "from keras.applications.resnet50 import preprocess_input\r\n",
        "from keras.preprocessing import image\r\n",
        "from keras.preprocessing.image import ImageDataGenerator\r\n",
        "import numpy as np\r\n",
        "from glob import glob\r\n",
        "import matplotlib.pyplot as plt\r\n",
        "import tensorflow as tf\r\n",
        "from tensorflow.keras.preprocessing import image_dataset_from_directory\r\n"
      ],
      "execution_count": 188,
      "outputs": []
    },
    {
      "cell_type": "code",
      "metadata": {
        "id": "MWUqhG3e4_LJ"
      },
      "source": [
        "image_size = [224, 224]\r\n",
        "\r\n",
        "train = 'train'\r\n",
        "valid = 'test'"
      ],
      "execution_count": 189,
      "outputs": []
    },
    {
      "cell_type": "code",
      "metadata": {
        "id": "MX6fGvUs5H-j"
      },
      "source": [
        "res = ResNet50(\r\n",
        "    input_shape=image_size + [3],\r\n",
        "    weights='imagenet',\r\n",
        "    include_top=False)"
      ],
      "execution_count": 190,
      "outputs": []
    },
    {
      "cell_type": "code",
      "metadata": {
        "id": "ckd6tB4C5JgR"
      },
      "source": [
        "for layer in res.layers:\r\n",
        "    layer.trainable = False"
      ],
      "execution_count": 191,
      "outputs": []
    },
    {
      "cell_type": "code",
      "metadata": {
        "id": "NBGwpCLI5Oby"
      },
      "source": [
        "folders = glob('train/*')"
      ],
      "execution_count": 192,
      "outputs": []
    },
    {
      "cell_type": "code",
      "metadata": {
        "id": "T2XLsChh5SEw"
      },
      "source": [
        "model = Sequential()\r\n",
        "model.add(res)\r\n",
        "model.add(Dense(256,activation='relu'))\r\n",
        "model.add(Dense(5,activation='softmax'))\r\n",
        "\r\n",
        "model.add(Flatten())\r\n",
        "model.add(Dense(len(folders), activation='softmax'))\r\n"
      ],
      "execution_count": 203,
      "outputs": []
    },
    {
      "cell_type": "code",
      "metadata": {
        "id": "W1JtukhL5UX9"
      },
      "source": [
        "model.summary()"
      ],
      "execution_count": null,
      "outputs": []
    },
    {
      "cell_type": "code",
      "metadata": {
        "id": "kqybi9ZX5Xm-"
      },
      "source": [
        "model.compile(\r\n",
        "  loss='categorical_crossentropy',\r\n",
        "  optimizer='adam',\r\n",
        "  metrics=['accuracy']\r\n",
        ")"
      ],
      "execution_count": 204,
      "outputs": []
    },
    {
      "cell_type": "code",
      "metadata": {
        "id": "YHwwl0A05aVh"
      },
      "source": [
        "train_datagen = ImageDataGenerator(rescale = 1./255,\r\n",
        "                                   shear_range = 0.2,\r\n",
        "                                   zoom_range = 0.2,\r\n",
        "                                   horizontal_flip = True,\r\n",
        "                                   rotation_range=15)\r\n",
        "\r\n",
        "test_datagen = ImageDataGenerator(rescale = 1./255)"
      ],
      "execution_count": 205,
      "outputs": []
    },
    {
      "cell_type": "code",
      "metadata": {
        "colab": {
          "base_uri": "https://localhost:8080/"
        },
        "id": "Mb9LkZWk5eQZ",
        "outputId": "bd450ba7-6982-4985-b344-0e532924f2fb"
      },
      "source": [
        "\r\n",
        "training_set = train_datagen.flow_from_directory('train',\r\n",
        "                                                 target_size = (224, 224),\r\n",
        "                                                 batch_size = 32,\r\n",
        "                                                 class_mode = 'categorical')"
      ],
      "execution_count": 206,
      "outputs": [
        {
          "output_type": "stream",
          "text": [
            "Found 3870 images belonging to 2 classes.\n"
          ],
          "name": "stdout"
        }
      ]
    },
    {
      "cell_type": "code",
      "metadata": {
        "colab": {
          "base_uri": "https://localhost:8080/"
        },
        "id": "shpY0kT-5jrP",
        "outputId": "2853252a-fc75-40fd-b4b0-ad7b45b00997"
      },
      "source": [
        "test_set = test_datagen.flow_from_directory('test',\r\n",
        "                                            target_size = (224, 224),\r\n",
        "                                            batch_size = 32,\r\n",
        "                                            class_mode = 'categorical'\r\n",
        "                                            )"
      ],
      "execution_count": 207,
      "outputs": [
        {
          "output_type": "stream",
          "text": [
            "Found 356 images belonging to 2 classes.\n"
          ],
          "name": "stdout"
        }
      ]
    },
    {
      "cell_type": "code",
      "metadata": {
        "colab": {
          "base_uri": "https://localhost:8080/"
        },
        "id": "fgG8j-Ub5oP1",
        "outputId": "3bed6360-05f1-4c9e-aab0-95c68b404a27"
      },
      "source": [
        "history = model.fit_generator(\r\n",
        "  training_set,\r\n",
        "  validation_data=test_set,\r\n",
        "  epochs=25,\r\n",
        "  steps_per_epoch=len(training_set),\r\n",
        "  validation_steps=len(test_set),\r\n",
        "  \r\n",
        ")"
      ],
      "execution_count": 209,
      "outputs": [
        {
          "output_type": "stream",
          "text": [
            "/usr/local/lib/python3.6/dist-packages/tensorflow/python/keras/engine/training.py:1844: UserWarning: `Model.fit_generator` is deprecated and will be removed in a future version. Please use `Model.fit`, which supports generators.\n",
            "  warnings.warn('`Model.fit_generator` is deprecated and '\n"
          ],
          "name": "stderr"
        },
        {
          "output_type": "stream",
          "text": [
            "Epoch 1/25\n",
            "121/121 [==============================] - 92s 762ms/step - loss: 0.4716 - accuracy: 0.7664 - val_loss: 0.4769 - val_accuracy: 0.8006\n",
            "Epoch 2/25\n",
            "121/121 [==============================] - 92s 760ms/step - loss: 0.3772 - accuracy: 0.8328 - val_loss: 0.4230 - val_accuracy: 0.7669\n",
            "Epoch 3/25\n",
            "121/121 [==============================] - 91s 752ms/step - loss: 0.3236 - accuracy: 0.8612 - val_loss: 0.3601 - val_accuracy: 0.8371\n",
            "Epoch 4/25\n",
            "121/121 [==============================] - 90s 746ms/step - loss: 0.2979 - accuracy: 0.8752 - val_loss: 0.3220 - val_accuracy: 0.8567\n",
            "Epoch 5/25\n",
            "121/121 [==============================] - 89s 739ms/step - loss: 0.2785 - accuracy: 0.8881 - val_loss: 0.2842 - val_accuracy: 0.8961\n",
            "Epoch 6/25\n",
            "121/121 [==============================] - 89s 736ms/step - loss: 0.2654 - accuracy: 0.8941 - val_loss: 0.2678 - val_accuracy: 0.8989\n",
            "Epoch 7/25\n",
            "121/121 [==============================] - 88s 728ms/step - loss: 0.2534 - accuracy: 0.8956 - val_loss: 0.2665 - val_accuracy: 0.8820\n",
            "Epoch 8/25\n",
            "121/121 [==============================] - 86s 710ms/step - loss: 0.2487 - accuracy: 0.9000 - val_loss: 0.3716 - val_accuracy: 0.7893\n",
            "Epoch 9/25\n",
            "121/121 [==============================] - 86s 714ms/step - loss: 0.2455 - accuracy: 0.8997 - val_loss: 0.3910 - val_accuracy: 0.8315\n",
            "Epoch 10/25\n",
            "121/121 [==============================] - 85s 705ms/step - loss: 0.2258 - accuracy: 0.9114 - val_loss: 0.3057 - val_accuracy: 0.8680\n",
            "Epoch 11/25\n",
            "121/121 [==============================] - 85s 704ms/step - loss: 0.2347 - accuracy: 0.9085 - val_loss: 0.3270 - val_accuracy: 0.8624\n",
            "Epoch 12/25\n",
            "121/121 [==============================] - 86s 710ms/step - loss: 0.2261 - accuracy: 0.9083 - val_loss: 0.2586 - val_accuracy: 0.9017\n",
            "Epoch 13/25\n",
            "121/121 [==============================] - 86s 708ms/step - loss: 0.2358 - accuracy: 0.9021 - val_loss: 0.2230 - val_accuracy: 0.9213\n",
            "Epoch 14/25\n",
            "121/121 [==============================] - 85s 701ms/step - loss: 0.2192 - accuracy: 0.9142 - val_loss: 0.2170 - val_accuracy: 0.9270\n",
            "Epoch 15/25\n",
            "121/121 [==============================] - 84s 695ms/step - loss: 0.2180 - accuracy: 0.9137 - val_loss: 0.2706 - val_accuracy: 0.8989\n",
            "Epoch 16/25\n",
            "121/121 [==============================] - 84s 693ms/step - loss: 0.2111 - accuracy: 0.9127 - val_loss: 0.2803 - val_accuracy: 0.8820\n",
            "Epoch 17/25\n",
            "121/121 [==============================] - 85s 698ms/step - loss: 0.2104 - accuracy: 0.9171 - val_loss: 0.3028 - val_accuracy: 0.8680\n",
            "Epoch 18/25\n",
            "121/121 [==============================] - 84s 695ms/step - loss: 0.2112 - accuracy: 0.9176 - val_loss: 0.2056 - val_accuracy: 0.9298\n",
            "Epoch 19/25\n",
            "121/121 [==============================] - 84s 694ms/step - loss: 0.2103 - accuracy: 0.9160 - val_loss: 0.2523 - val_accuracy: 0.8933\n",
            "Epoch 20/25\n",
            "121/121 [==============================] - 84s 695ms/step - loss: 0.2245 - accuracy: 0.9085 - val_loss: 0.2441 - val_accuracy: 0.9129\n",
            "Epoch 21/25\n",
            "121/121 [==============================] - 84s 697ms/step - loss: 0.2170 - accuracy: 0.9090 - val_loss: 0.2579 - val_accuracy: 0.8989\n",
            "Epoch 22/25\n",
            "121/121 [==============================] - 83s 687ms/step - loss: 0.2219 - accuracy: 0.9163 - val_loss: 0.2787 - val_accuracy: 0.8876\n",
            "Epoch 23/25\n",
            "121/121 [==============================] - 83s 687ms/step - loss: 0.2131 - accuracy: 0.9140 - val_loss: 0.2325 - val_accuracy: 0.9129\n",
            "Epoch 24/25\n",
            "121/121 [==============================] - 83s 688ms/step - loss: 0.1983 - accuracy: 0.9217 - val_loss: 0.2893 - val_accuracy: 0.8680\n",
            "Epoch 25/25\n",
            "121/121 [==============================] - 83s 687ms/step - loss: 0.1985 - accuracy: 0.9212 - val_loss: 0.2123 - val_accuracy: 0.9185\n"
          ],
          "name": "stdout"
        }
      ]
    },
    {
      "cell_type": "code",
      "metadata": {
        "colab": {
          "base_uri": "https://localhost:8080/",
          "height": 295
        },
        "id": "sm69F9K-j2yw",
        "outputId": "16c6c678-bbe8-4c47-8df0-c1ec4ab21cb2"
      },
      "source": [
        "plt.plot(history.history['accuracy'])\r\n",
        "plt.plot(history.history['val_accuracy'])\r\n",
        "plt.title('Model Accuracy')\r\n",
        "plt.ylabel('Accuracy')\r\n",
        "plt.xlabel('Epochs')\r\n",
        "plt.legend(['train', 'test'])\r\n",
        "plt.show()"
      ],
      "execution_count": 210,
      "outputs": [
        {
          "output_type": "display_data",
          "data": {
            "image/png": "[encoded data removed]",
            "text/plain": [
              "<Figure size 432x288 with 1 Axes>"
            ]
          },
          "metadata": {
            "tags": [],
            "needs_background": "light"
          }
        }
      ]
    },
    {
      "cell_type": "code",
      "metadata": {
        "colab": {
          "base_uri": "https://localhost:8080/",
          "height": 295
        },
        "id": "IOATiWLUkTTm",
        "outputId": "2fe4d6cb-a241-4845-99da-a6fcfa51cd57"
      },
      "source": [
        "plt.plot(r.history['loss'])\r\n",
        "plt.plot(r.history['val_loss'])\r\n",
        "plt.title('Model Loss')\r\n",
        "plt.ylabel('Loss')\r\n",
        "plt.xlabel('Epochs')\r\n",
        "plt.legend(['train', 'test'])\r\n",
        "plt.show()"
      ],
      "execution_count": 211,
      "outputs": [
        {
          "output_type": "display_data",
          "data": {
            "image/png": "[encoded data removed]",
            "text/plain": [
              "<Figure size 432x288 with 1 Axes>"
            ]
          },
          "metadata": {
            "tags": [],
            "needs_background": "light"
          }
        }
      ]
    },
    {
      "cell_type": "code",
      "metadata": {
        "id": "CDyLmHoMQbPU"
      },
      "source": [
        "res.trainable=True"
      ],
      "execution_count": 212,
      "outputs": []
    },
    {
      "cell_type": "code",
      "metadata": {
        "colab": {
          "base_uri": "https://localhost:8080/"
        },
        "id": "DzwKUhqXPmI3",
        "outputId": "f0d1265f-9550-4dbc-c10d-b8de47dee462"
      },
      "source": [
        "tune_at=149\r\n",
        "for layer in res.layers[:tune_at]:\r\n",
        "  layer.trainable =  False\r\n",
        "len(res.layers)"
      ],
      "execution_count": 213,
      "outputs": [
        {
          "output_type": "execute_result",
          "data": {
            "text/plain": [
              "175"
            ]
          },
          "metadata": {
            "tags": []
          },
          "execution_count": 213
        }
      ]
    },
    {
      "cell_type": "code",
      "metadata": {
        "id": "IPQyUWBZPrlK"
      },
      "source": [
        "model.compile(loss=tf.keras.losses.BinaryCrossentropy(from_logits=True),\r\n",
        "              optimizer = tf.keras.optimizers.Adam(lr=0.001),\r\n",
        "              metrics=['accuracy'])"
      ],
      "execution_count": 225,
      "outputs": []
    },
    {
      "cell_type": "code",
      "metadata": {
        "id": "1qDU9uIvFcjf"
      },
      "source": [
        "for i in range (len(res.layers)):\r\n",
        "    print (i,res.layers[i])"
      ],
      "execution_count": null,
      "outputs": []
    },
    {
      "cell_type": "code",
      "metadata": {
        "id": "8AJe3ZWfFoUz"
      },
      "source": [
        "for layer in res.layers[159:]:\r\n",
        "    layer.trainable=True\r\n",
        "for layer in res.layers[0:159]:\r\n",
        "  layer.trainable = False"
      ],
      "execution_count": 227,
      "outputs": []
    },
    {
      "cell_type": "code",
      "metadata": {
        "colab": {
          "base_uri": "https://localhost:8080/"
        },
        "id": "j9RwRv-7RrGN",
        "outputId": "b925a9e2-9513-459e-b27e-cc40a8fd61cd"
      },
      "source": [
        "tune_epochs = 25\r\n",
        "total_epochs = tune_epochs + 25\r\n",
        "history_fine = model.fit(training_set,\r\n",
        "                         epochs=total_epochs,\r\n",
        "                         initial_epoch=history.epoch[-1],\r\n",
        "                         validation_data=test_set)"
      ],
      "execution_count": null,
      "outputs": [
        {
          "output_type": "stream",
          "text": [
            "Epoch 25/50\n",
            "121/121 [==============================] - 89s 708ms/step - loss: 0.6510 - accuracy: 0.6468 - val_loss: 0.6281 - val_accuracy: 0.6798\n",
            "Epoch 26/50\n",
            "103/121 [========================>.....] - ETA: 12s - loss: 0.6477 - accuracy: 0.6510"
          ],
          "name": "stdout"
        }
      ]
    },
    {
      "cell_type": "code",
      "metadata": {
        "id": "Ij5nsbMUh8s0"
      },
      "source": [
        "plt.plot(history_fine.history['accuracy'])\r\n",
        "plt.plot(history_fine.history['val_accuracy'])\r\n",
        "plt.title('Model Accuracy')\r\n",
        "plt.ylabel('Accuracy')\r\n",
        "plt.xlabel('Epochs')\r\n",
        "plt.legend(['train', 'test'])\r\n",
        "plt.show()"
      ],
      "execution_count": null,
      "outputs": []
    },
    {
      "cell_type": "code",
      "metadata": {
        "id": "mzUMTTdqkh4y"
      },
      "source": [
        "plt.plot(history_fine.history['loss'])\r\n",
        "plt.plot(history_fine.history['val_loss'])\r\n",
        "plt.title('Model Loss After Finetuning')\r\n",
        "plt.ylabel('Loss')\r\n",
        "plt.xlabel('Epochs')\r\n",
        "plt.legend(['train', 'test'])\r\n",
        "plt.show()"
      ],
      "execution_count": null,
      "outputs": []
    }
  ]
}